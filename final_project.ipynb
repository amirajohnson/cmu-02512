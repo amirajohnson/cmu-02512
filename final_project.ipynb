{
 "cells": [
  {
   "cell_type": "markdown",
   "metadata": {},
   "source": [
    "Figure in Page 4\n",
    "    - Lambda values --> what exactly is being varied?\n",
    "        - lambda used to vary beta."
   ]
  },
  {
   "cell_type": "code",
   "execution_count": 76,
   "metadata": {},
   "outputs": [],
   "source": [
    "import numpy as np\n",
    "import matplotlib.pyplot as plt\n",
    "\n",
    "M = np.array([[19.2, 4.8, 3.0, 7.1, 3.7, 3.1, 2.3, 1.4, 1.4],\n",
    "[4.8, 42.4, 6.4, 5.4, 7.5, 5.0, 1.8, 1.7, 1.7],\n",
    "[3.0, 6.4, 20.7, 9.2, 7.1, 6.3, 2.0, 0.9, 0.9],\n",
    "[7.1, 5.4, 9.2, 16.9, 10.1, 6.8, 3.4, 1.5, 1.5],\n",
    "[3.7, 7.5, 7.1, 10.1, 13.1, 7.4, 2.6, 2.1, 2.1],\n",
    "[3.1, 5.0, 6.3, 6.8, 7.4, 10.4, 3.5, 1.8, 1.8],\n",
    "[2.3, 1.8, 2.0, 3.4, 2.6, 3.5, 7.5, 3.2, 3.2],\n",
    "[1.4, 1.7, 0.9, 1.5, 2.1, 1.8, 3.2, 7.2, 7.2],\n",
    "[1.4, 1.7, 0.9, 1.5, 2.1, 1.8, 3.2, 7.2, 7.2]]\n",
    ")\n",
    "\n",
    "S = np.array([900 for i in range(9)])\n",
    "I = np.array([100 for i in range(9)])\n",
    "R = np.array([0 for i in range(9)])\n",
    "\n",
    "gamma = 1/14\n",
    "\n",
    "\n",
    "def exp(lambda_):\n",
    "    return float('inf') if lambda_ == 0 else np.random.exponential(1 / lambda_)\n",
    "\n",
    "\n",
    "# def dS(beta, Si, N, M, I, i): # M is an i by j matrix, I is a 9 length vector\n",
    "#   return -beta * Si / N * np.sum( M[i] * I[j] )\n",
    "\n",
    "\n",
    "# def dI(beta, Si, N, M, I, i, gamma): # M is an i by j matrix, I is a 9 length vector\n",
    "#   return beta * Si / N * np.sum( M[i] * I[j]) - gamma * I[i]\n",
    "\n",
    "\n",
    "# def dR(gamma, Ii): # I is a 9 length vector\n",
    "#   return gamma * Ii\n",
    "\n",
    "\n",
    "def dSI(beta, Si, N, Mi, I):\n",
    "  return beta * Si / N * np.dot(Mi, I)\n",
    "\n",
    "def dRI(gamma, Ii):\n",
    "  return gamma * Ii\n"
   ]
  },
  {
   "cell_type": "code",
   "execution_count": 77,
   "metadata": {},
   "outputs": [],
   "source": [
    "#where i = the ith age range\n",
    "h = [.1, .3, 1.2, 3.2, 4.9, 10.2, 16.6, 24.3, 27.3] #hospital\n",
    "c = [5.0, 5.0, 5.0, 5.0, 6.3, 12.2, 27.4, 43.2, 70.9] #icu\n",
    "m = [0.002, .006, .03, .08, .15, .6, 2.2, 5.1, 9.3] #morir"
   ]
  },
  {
   "cell_type": "code",
   "execution_count": 78,
   "metadata": {},
   "outputs": [],
   "source": [
    "def dH(gamma, Ii, Hi):\n",
    "  return gamma * Hi * Ii\n",
    "\n",
    "def dC(gamma, Ii, Hi, ci):\n",
    "  return gamma * Hi * Ii * ci\n",
    "\n",
    "def dM(gamma, mi, Ii):\n",
    "  return gamma * mi * Ii"
   ]
  },
  {
   "cell_type": "code",
   "execution_count": 80,
   "metadata": {},
   "outputs": [],
   "source": [
    "def modelloop(L, N, i):\n",
    "  beta = 5.7 * gamma / L #L - lambda\n",
    "  # I = 100 #originally i\n",
    "  # S = N - i #healthy\n",
    "  # R = 0 #recovered\n",
    "  while np.sum(I) > 0:\n",
    "    #for each age range i, we calculate step from S to I, and then again from I to R.\n",
    "    betaoutcomes, gammaoutcomes = np.array([dSI(beta, S[i], N, M[i], I[i]) for i in range(9)]), np.array([dRI(gamma, I[i]) for i in range(9)]) # calculate equation values\n",
    "    #get the minimum value over all, make updates to S, I, and R based on min\n",
    "    # print(betaoutcomes, gammaoutcomes)\n",
    "    #print(np.concatenate(betaoutcomes, gammaoutcomes))\n",
    "    #min_val = get_min_ind(betaoutcomes, gammaoutcomes)\n",
    "    min_val = np.argmin(np.concatenate(betaoutcomes, gammaoutcomes))\n",
    "    if min_val < 9: #then move person from S to I\n",
    "      idx = min_val\n",
    "      S[idx] -= 1\n",
    "      I[idx] += 1\n",
    "    else: #the move person from I to S\n",
    "      idx = min_val - 9\n",
    "      I[idx] -= 1\n",
    "      R[idx] += 1"
   ]
  },
  {
   "cell_type": "code",
   "execution_count": 81,
   "metadata": {},
   "outputs": [
    {
     "ename": "ValueError",
     "evalue": "The truth value of an array with more than one element is ambiguous. Use a.any() or a.all()",
     "output_type": "error",
     "traceback": [
      "\u001b[0;31m---------------------------------------------------------------------------\u001b[0m",
      "\u001b[0;31mValueError\u001b[0m                                Traceback (most recent call last)",
      "\u001b[0;32m/var/folders/l9/bb63nvsn5bz4lghxt481lvnm0000gn/T/ipykernel_76719/3538740250.py\u001b[0m in \u001b[0;36m<module>\u001b[0;34m\u001b[0m\n\u001b[1;32m      1\u001b[0m \u001b[0;31m#for i in range(9):\u001b[0m\u001b[0;34m\u001b[0m\u001b[0;34m\u001b[0m\u001b[0m\n\u001b[0;32m----> 2\u001b[0;31m \u001b[0mmodelloop\u001b[0m\u001b[0;34m(\u001b[0m\u001b[0;36m.01\u001b[0m\u001b[0;34m,\u001b[0m \u001b[0;36m900\u001b[0m\u001b[0;34m,\u001b[0m \u001b[0;36m1\u001b[0m\u001b[0;34m)\u001b[0m\u001b[0;34m\u001b[0m\u001b[0m\n\u001b[0m\u001b[1;32m      3\u001b[0m \u001b[0mplt\u001b[0m\u001b[0;34m.\u001b[0m\u001b[0mplot\u001b[0m\u001b[0;34m(\u001b[0m\u001b[0mI\u001b[0m\u001b[0;34m)\u001b[0m\u001b[0;34m\u001b[0m\u001b[0m\n",
      "\u001b[0;32m/var/folders/l9/bb63nvsn5bz4lghxt481lvnm0000gn/T/ipykernel_76719/1137160434.py\u001b[0m in \u001b[0;36mmodelloop\u001b[0;34m(L, N, i)\u001b[0m\n\u001b[1;32m     11\u001b[0m     \u001b[0;31m#print(np.concatenate(betaoutcomes, gammaoutcomes))\u001b[0m\u001b[0;34m\u001b[0m\u001b[0;34m\u001b[0m\u001b[0m\n\u001b[1;32m     12\u001b[0m     \u001b[0mmin_val\u001b[0m \u001b[0;34m=\u001b[0m \u001b[0mget_min_ind\u001b[0m\u001b[0;34m(\u001b[0m\u001b[0mbetaoutcomes\u001b[0m\u001b[0;34m,\u001b[0m \u001b[0mgammaoutcomes\u001b[0m\u001b[0;34m)\u001b[0m\u001b[0;34m\u001b[0m\u001b[0m\n\u001b[0;32m---> 13\u001b[0;31m     \u001b[0;32mif\u001b[0m \u001b[0mmin_val\u001b[0m \u001b[0;34m<\u001b[0m \u001b[0;36m9\u001b[0m\u001b[0;34m:\u001b[0m \u001b[0;31m#then move person from S to I\u001b[0m\u001b[0;34m\u001b[0m\u001b[0m\n\u001b[0m\u001b[1;32m     14\u001b[0m       \u001b[0midx\u001b[0m \u001b[0;34m=\u001b[0m \u001b[0mmin_val\u001b[0m\u001b[0;34m\u001b[0m\u001b[0m\n\u001b[1;32m     15\u001b[0m       \u001b[0mS\u001b[0m\u001b[0;34m[\u001b[0m\u001b[0midx\u001b[0m\u001b[0;34m]\u001b[0m \u001b[0;34m-=\u001b[0m \u001b[0;36m1\u001b[0m\u001b[0;34m\u001b[0m\u001b[0m\n",
      "\u001b[0;31mValueError\u001b[0m: The truth value of an array with more than one element is ambiguous. Use a.any() or a.all()"
     ]
    }
   ],
   "source": [
    "#for i in range(9):\n",
    "modelloop(.01, 900, 1)\n",
    "plt.plot(I)\n"
   ]
  }
 ],
 "metadata": {
  "kernelspec": {
   "display_name": "Python 3",
   "language": "python",
   "name": "python3"
  },
  "language_info": {
   "codemirror_mode": {
    "name": "ipython",
    "version": 3
   },
   "file_extension": ".py",
   "mimetype": "text/x-python",
   "name": "python",
   "nbconvert_exporter": "python",
   "pygments_lexer": "ipython3",
   "version": "3.7.0"
  }
 },
 "nbformat": 4,
 "nbformat_minor": 2
}
