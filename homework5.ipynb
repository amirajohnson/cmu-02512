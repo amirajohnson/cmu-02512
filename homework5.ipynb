{
 "cells": [
  {
   "cell_type": "code",
   "execution_count": 117,
   "metadata": {},
   "outputs": [],
   "source": [
    "import random\n",
    "import matplotlib.pyplot as plt\n",
    "\n",
    "n_list = [i for i in range(10, 151, 10)]\n",
    "s_list = [i/100 for i in range(0, 15, 2)]\n",
    "\n",
    "trials = 10000"
   ]
  },
  {
   "cell_type": "code",
   "execution_count": 118,
   "metadata": {},
   "outputs": [],
   "source": [
    "def neutral(trials, N):\n",
    "    result = []\n",
    "    current_res = None\n",
    "\n",
    "    for i in range(trials):\n",
    "        A, B = 1, N-1 #choosing 1/N \n",
    "        #will A take over?\n",
    "        while A > 0 and B > 0: #while there are still people in both populations\n",
    "            #choose a random individual from the group to either give birth or DIE\n",
    "            indiv_born = random.choice(['A', 'B'])\n",
    "            indiv_die = random.choice(['A', 'B'])\n",
    "\n",
    "            if indiv_born == 'B': B += 1\n",
    "            else: A += 1\n",
    "\n",
    "            if indiv_die == 'B': B -= 1\n",
    "            else: A -= 1\n",
    "        \n",
    "        #if A takes over:\n",
    "        current_res = 'A' if A>0 else 'B' \n",
    "        result.append(current_res)\n",
    "\n",
    "    return result\n",
    "    "
   ]
  },
  {
   "cell_type": "code",
   "execution_count": 119,
   "metadata": {},
   "outputs": [],
   "source": [
    "def advantage(N, s, trials):\n",
    "    wA, wB = (1+s)/(1+s+1), 1/(2+s)\n",
    "    result = []\n",
    "    current_res = None\n",
    "\n",
    "    for i in range(trials):\n",
    "        A, B = 1, N-1 #choosing 1/N \n",
    "        #will A take over?\n",
    "        while A > 0 and B > 0: #while there are still people in both populations\n",
    "            #choose a random individual from the group to either give birth or DIE\n",
    "\n",
    "            #A has some weight attached to it\n",
    "            choices_with_weights = random.choices(['A', 'B'], weights = (wA, wB))\n",
    "            indiv_born = choices_with_weights.pop()\n",
    "            #death has same probability from both groups\n",
    "            indiv_die = random.choice(['A', 'B'])\n",
    "\n",
    "            if indiv_born == 'B': B += 1\n",
    "            else: A += 1\n",
    "\n",
    "            if indiv_die == 'B': B -= 1\n",
    "            else: A -= 1\n",
    "        \n",
    "        #if A takes over:\n",
    "        current_res = 'A' if A>0 else 'B'\n",
    "        result.append(current_res)\n",
    "    return result"
   ]
  },
  {
   "cell_type": "code",
   "execution_count": 120,
   "metadata": {},
   "outputs": [],
   "source": [
    "#for the neutral one\n",
    "observed = [0 for n in range(len(n_list))]\n",
    "expected = [1/N for N in n_list]\n",
    "\n",
    "i = 0\n",
    "for val in n_list:\n",
    "    output = neutral(trials, val)\n",
    "    a_count = 0\n",
    "    #count the A throughout the output\n",
    "    for v in output:\n",
    "        if v == 'A': a_count +=1\n",
    "    observed[i] = a_count/len(output)\n",
    "    i += 1\n"
   ]
  },
  {
   "cell_type": "code",
   "execution_count": 121,
   "metadata": {},
   "outputs": [],
   "source": [
    "#for the one where A has an advantage\n",
    "observed_adv = [0 for i in range(len(s_list))]\n",
    "#expected is the same as what has been defined before\n",
    "N = 100\n",
    "for val in s_list:\n",
    "    output = advantage(N, val, trials)\n",
    "    a_count = 0\n",
    "    #count the A throughout the output\n",
    "    for v in output:\n",
    "        if v == 'A': a_count +=1\n",
    "    observed_adv.append(a_count/len(output))"
   ]
  },
  {
   "cell_type": "code",
   "execution_count": 122,
   "metadata": {},
   "outputs": [
    {
     "data": {
      "text/plain": [
       "[<matplotlib.lines.Line2D at 0x7fa4b8dddc50>]"
      ]
     },
     "execution_count": 122,
     "metadata": {},
     "output_type": "execute_result"
    },
    {
     "data": {
      "image/png": "[encoded data removed]",
      "text/plain": [
       "<Figure size 640x480 with 1 Axes>"
      ]
     },
     "metadata": {},
     "output_type": "display_data"
    }
   ],
   "source": [
    "plt.plot(expected, color = 'g', label = \"Expected\")\n",
    "plt.plot(observed, color = 'r', label = \"Observed\")\n",
    "plt.plot(observed_adv, color = 'b', label = \"Advantage\")"
   ]
  }
 ],
 "metadata": {
  "kernelspec": {
   "display_name": "Python 3",
   "language": "python",
   "name": "python3"
  },
  "language_info": {
   "codemirror_mode": {
    "name": "ipython",
    "version": 3
   },
   "file_extension": ".py",
   "mimetype": "text/x-python",
   "name": "python",
   "nbconvert_exporter": "python",
   "pygments_lexer": "ipython3",
   "version": "3.7.0"
  }
 },
 "nbformat": 4,
 "nbformat_minor": 2
}
